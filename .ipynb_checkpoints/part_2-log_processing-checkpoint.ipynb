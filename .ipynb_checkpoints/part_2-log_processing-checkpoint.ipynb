{
 "cells": [
  {
   "cell_type": "markdown",
   "id": "saving-bolivia",
   "metadata": {},
   "source": [
    "# Class 6 - Project\n",
    "## Part II - Log Processing"
   ]
  },
  {
   "cell_type": "markdown",
   "id": "veterinary-election",
   "metadata": {
    "ExecuteTime": {
     "end_time": "2021-03-01T13:11:08.271486Z",
     "start_time": "2021-03-01T13:11:08.269151Z"
    },
    "heading_collapsed": true
   },
   "source": [
    "### Question 1. Write a MapReduce program which will display the number of hits for each different file on the Web site.\n",
    "How many hits were made to the page **/assets/js/the-associates.js**?"
   ]
  },
  {
   "cell_type": "markdown",
   "id": "corresponding-clause",
   "metadata": {
    "heading_collapsed": true,
    "hidden": true
   },
   "source": [
    "#### mapper"
   ]
  },
  {
   "cell_type": "code",
   "execution_count": null,
   "id": "expired-optics",
   "metadata": {
    "hidden": true
   },
   "outputs": [],
   "source": [
    "#!/usr/bin/python\n",
    "\n",
    "import sys\n",
    "\n",
    "for line in sys.stdin:\n",
    "    data = line.strip().split(\" \")\n",
    "\n",
    "    if len(data) == 10:\n",
    "        ip, id, username, time, zone, method, path, protocol, status_code, size = data\n",
    "        \n",
    "    print path"
   ]
  },
  {
   "cell_type": "markdown",
   "id": "accomplished-tragedy",
   "metadata": {
    "heading_collapsed": true,
    "hidden": true
   },
   "source": [
    "#### reducer"
   ]
  },
  {
   "cell_type": "code",
   "execution_count": null,
   "id": "viral-buddy",
   "metadata": {
    "hidden": true
   },
   "outputs": [],
   "source": [
    "#!/usr/bin/python\n",
    "\n",
    "import sys\n",
    "\n",
    "hitsTotal = 0\n",
    "oldPath = None\n",
    "\n",
    "for line in sys.stdin:\n",
    "    thisPath = line\n",
    "\n",
    "    if oldPath and oldPath != thisPath:\n",
    "        print oldPath, \"\\t\", hitsTotal\n",
    "        hitsTotal = 0\n",
    "    \n",
    "    oldPath = thisPath\n",
    "    hitsTotal += 1\n",
    "    \n",
    "if oldPath != None:\n",
    "    print oldPath, \"\\t\", hitsTotal"
   ]
  },
  {
   "cell_type": "markdown",
   "id": "convinced-framework",
   "metadata": {
    "heading_collapsed": true,
    "hidden": true
   },
   "source": [
    "#### Answer"
   ]
  },
  {
   "cell_type": "markdown",
   "id": "spiritual-marina",
   "metadata": {
    "hidden": true
   },
   "source": [
    "Hits to the page **/assets/js/the-associates.js**: 2456"
   ]
  },
  {
   "cell_type": "markdown",
   "id": "variable-round",
   "metadata": {
    "ExecuteTime": {
     "end_time": "2021-03-01T13:11:08.271486Z",
     "start_time": "2021-03-01T13:11:08.269151Z"
    },
    "heading_collapsed": true
   },
   "source": [
    "### Question 2. Write a MapReduce program which determines the number of hits to the site made by each different IP address.\n",
    "How many hits were made by the IP address **10.99.99.186**?"
   ]
  },
  {
   "cell_type": "markdown",
   "id": "considerable-generator",
   "metadata": {
    "heading_collapsed": true,
    "hidden": true
   },
   "source": [
    "#### mapper"
   ]
  },
  {
   "cell_type": "code",
   "execution_count": null,
   "id": "hearing-ivory",
   "metadata": {
    "hidden": true
   },
   "outputs": [],
   "source": [
    "#!/usr/bin/python\n",
    "\n",
    "import sys\n",
    "\n",
    "for line in sys.stdin:\n",
    "    data = line.strip().split(\" \")\n",
    "    \n",
    "    if len(data) == 10:\n",
    "        ip, id, username, time, zone, method, path, protocol, status_code, size = data\n",
    "        \n",
    "    print ip"
   ]
  },
  {
   "cell_type": "markdown",
   "id": "successful-tampa",
   "metadata": {
    "heading_collapsed": true,
    "hidden": true
   },
   "source": [
    "#### reducer"
   ]
  },
  {
   "cell_type": "code",
   "execution_count": null,
   "id": "bottom-sharp",
   "metadata": {
    "hidden": true
   },
   "outputs": [],
   "source": [
    "#!/usr/bin/python\n",
    "\n",
    "import sys\n",
    "\n",
    "hitsTotal = 0\n",
    "oldPath = None\n",
    "\n",
    "for line in sys.stdin:\n",
    "    thisPath = line\n",
    "\n",
    "    if oldPath and oldPath != thisPath:\n",
    "        print oldPath, \"\\t\", hitsTotal\n",
    "        hitsTotal = 0\n",
    "    \n",
    "    oldPath = thisPath\n",
    "    hitsTotal += 1\n",
    "    \n",
    "if oldPath != None:\n",
    "    print oldPath, \"\\t\", hitsTotal"
   ]
  },
  {
   "cell_type": "markdown",
   "id": "unusual-mustang",
   "metadata": {
    "heading_collapsed": true,
    "hidden": true
   },
   "source": [
    "#### Answer"
   ]
  },
  {
   "cell_type": "markdown",
   "id": "extraordinary-toilet",
   "metadata": {
    "hidden": true
   },
   "source": [
    "6"
   ]
  },
  {
   "cell_type": "markdown",
   "id": "confidential-olive",
   "metadata": {
    "ExecuteTime": {
     "end_time": "2021-03-01T13:11:08.271486Z",
     "start_time": "2021-03-01T13:11:08.269151Z"
    },
    "heading_collapsed": true
   },
   "source": [
    "### Question 3. Find the most popular file on the website: that is, the file whose path occurs most often in access_log. \n",
    "Your reducer should output the file's path and the number of times it appears in the log.\n",
    "<br>\n",
    "IMPORTANT: Some pathnames in the log begin with \"http://www.the-associates.co.uk\". Be sure to remove the portion \"http://www.the-associates.co.uk\" from pathnames in your mapper so that all occurrences of a file are counted together."
   ]
  },
  {
   "cell_type": "markdown",
   "id": "ranging-negative",
   "metadata": {
    "heading_collapsed": true,
    "hidden": true
   },
   "source": [
    "#### mapper"
   ]
  },
  {
   "cell_type": "code",
   "execution_count": null,
   "id": "judicial-anniversary",
   "metadata": {
    "hidden": true
   },
   "outputs": [],
   "source": [
    "#!/usr/bin/python\n",
    "\n",
    "import sys\n",
    "\n",
    "for line in sys.stdin:\n",
    "    data = line.strip().split(\" \")\n",
    "    \n",
    "    if len(data) == 10:\n",
    "        ip, id, username, time, zone, method, path, protocol, status_code, size = data\n",
    "    \n",
    "    path = re.sub(\"http://www.the-associates.co.uk\", \"\", path)\n",
    "    \n",
    "    print path"
   ]
  },
  {
   "cell_type": "markdown",
   "id": "fundamental-button",
   "metadata": {
    "heading_collapsed": true,
    "hidden": true
   },
   "source": [
    "#### reducer"
   ]
  },
  {
   "cell_type": "code",
   "execution_count": null,
   "id": "conceptual-wrong",
   "metadata": {
    "hidden": true
   },
   "outputs": [],
   "source": [
    "#!/usr/bin/python\n",
    "\n",
    "import sys\n",
    "\n",
    "hitsTotal = mostPopularHits = 0\n",
    "oldPath = None\n",
    "mostPopularPath = None\n",
    "\n",
    "for line in sys.stdin:\n",
    "    thisPath = line\n",
    "    \n",
    "    if oldPath and oldPath != thisPath:\n",
    "        if hitsTotal > mostPopularHits:\n",
    "            mostPopularHits = hitsTotal\n",
    "            mostPopularPath = oldPath\n",
    "        hitsTotal = 0\n",
    "\n",
    "    oldPath = thisPath\n",
    "    hitsTotal += 1\n",
    "\n",
    "print mostPopularPath, \"\\t\", mostPopularHits"
   ]
  },
  {
   "cell_type": "markdown",
   "id": "musical-difference",
   "metadata": {
    "heading_collapsed": true,
    "hidden": true
   },
   "source": [
    "#### Answer"
   ]
  },
  {
   "cell_type": "markdown",
   "id": "another-speaking",
   "metadata": {
    "hidden": true
   },
   "source": [
    "Most popular file's pathname: /assets/css/combined.css <br>\n",
    "Number of occurences: 117,352"
   ]
  }
 ],
 "metadata": {
  "kernelspec": {
   "display_name": "Python 3",
   "language": "python",
   "name": "python3"
  },
  "language_info": {
   "codemirror_mode": {
    "name": "ipython",
    "version": 3
   },
   "file_extension": ".py",
   "mimetype": "text/x-python",
   "name": "python",
   "nbconvert_exporter": "python",
   "pygments_lexer": "ipython3",
   "version": "3.8.0"
  }
 },
 "nbformat": 4,
 "nbformat_minor": 5
}
