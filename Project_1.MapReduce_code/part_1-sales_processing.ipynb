{
 "cells": [
  {
   "cell_type": "markdown",
   "id": "saving-bolivia",
   "metadata": {},
   "source": [
    "# Class 6 - Project\n",
    "## Part I - Sales Processing"
   ]
  },
  {
   "cell_type": "markdown",
   "id": "veterinary-election",
   "metadata": {
    "ExecuteTime": {
     "end_time": "2021-03-01T13:11:08.271486Z",
     "start_time": "2021-03-01T13:11:08.269151Z"
    },
    "heading_collapsed": true
   },
   "source": [
    "### Question 1. What is the value of total sales for the following categories:\n",
    "a) Toys?\n",
    "b) Consumer electronics?"
   ]
  },
  {
   "cell_type": "markdown",
   "id": "corresponding-clause",
   "metadata": {
    "heading_collapsed": true,
    "hidden": true
   },
   "source": [
    "#### mapper"
   ]
  },
  {
   "cell_type": "code",
   "execution_count": null,
   "id": "expired-optics",
   "metadata": {
    "hidden": true
   },
   "outputs": [],
   "source": [
    "#!/usr/bin/python\n",
    "\n",
    "import sys\n",
    "\n",
    "for line in sys.stdin:\n",
    "    data = line.strip().split(\"\\t\")\n",
    "    \n",
    "    if len(data) == 6:\n",
    "        date, time, store, item, cost, payment = data\n",
    "        \n",
    "    print \"{0}\\t{1}\". format (store, cost)"
   ]
  },
  {
   "cell_type": "markdown",
   "id": "accomplished-tragedy",
   "metadata": {
    "heading_collapsed": true,
    "hidden": true
   },
   "source": [
    "#### reducer"
   ]
  },
  {
   "cell_type": "code",
   "execution_count": null,
   "id": "viral-buddy",
   "metadata": {
    "hidden": true
   },
   "outputs": [],
   "source": [
    "#!/usr/bin/python\n",
    "\n",
    "import sys\n",
    "\n",
    "salesTotal = 0\n",
    "oldkey = None\n",
    "\n",
    "for line in sys.stdin:\n",
    "    data_mapped = line.strip().split(\"\\t\")\n",
    "    \n",
    "    if len(data_mapped) != 2:\n",
    "        # Something has gone wrong. Skip this line.\n",
    "        continue\n",
    "        \n",
    "    thiskey, thissale = data_mapped\n",
    "    \n",
    "    if oldKey and oldKey != thiskey:\n",
    "        print oldkey, \"it\", salesTotal\n",
    "        salesTotal = 0\n",
    "        \n",
    "    oldkey = thiskey\n",
    "    salesTotal += float(thissale)\n",
    "\n",
    "if oldkey != None:\n",
    "    print oldkey, \"\\t\", salesTotal"
   ]
  },
  {
   "cell_type": "markdown",
   "id": "convinced-framework",
   "metadata": {
    "heading_collapsed": true,
    "hidden": true
   },
   "source": [
    "#### Answer"
   ]
  },
  {
   "cell_type": "markdown",
   "id": "spiritual-marina",
   "metadata": {
    "hidden": true
   },
   "source": [
    "a) 57463477.11<br>\n",
    "b) 57452374.13"
   ]
  },
  {
   "cell_type": "markdown",
   "id": "variable-round",
   "metadata": {
    "ExecuteTime": {
     "end_time": "2021-03-01T13:11:08.271486Z",
     "start_time": "2021-03-01T13:11:08.269151Z"
    },
    "heading_collapsed": true
   },
   "source": [
    "### Question 2. Find the monetary value for the highest individual sale for each separate store. What are the values for the following stores?\n",
    "a) Reno\n",
    "b) Toledo\n",
    "c) Chandler"
   ]
  },
  {
   "cell_type": "markdown",
   "id": "considerable-generator",
   "metadata": {
    "heading_collapsed": true,
    "hidden": true
   },
   "source": [
    "#### mapper"
   ]
  },
  {
   "cell_type": "code",
   "execution_count": null,
   "id": "hearing-ivory",
   "metadata": {
    "hidden": true
   },
   "outputs": [],
   "source": [
    "#!/usr/bin/python\n",
    "\n",
    "import sys\n",
    "\n",
    "for line in sys.stdin:\n",
    "    data = line.strip().split(\"\\t\")\n",
    "    \n",
    "    if len(data) == 6:\n",
    "        date, time, store, item, cost, payment = data\n",
    "        \n",
    "    print \"{0}\\t{1}\". format (store, cost)"
   ]
  },
  {
   "cell_type": "markdown",
   "id": "successful-tampa",
   "metadata": {
    "heading_collapsed": true,
    "hidden": true
   },
   "source": [
    "#### reducer"
   ]
  },
  {
   "cell_type": "code",
   "execution_count": null,
   "id": "bottom-sharp",
   "metadata": {
    "hidden": true
   },
   "outputs": [],
   "source": [
    "#!/usr/bin/python\n",
    "\n",
    "import sys\n",
    "\n",
    "salesMax = 0\n",
    "oldStore = None\n",
    "\n",
    "for line in sys.stdin:\n",
    "    data_mapped = line.strip().split(\"\\t\")\n",
    "    \n",
    "    if len(data_mapped) != 2:\n",
    "        # Something has gone wrong. Skip this line.\n",
    "        continue\n",
    "    thisStore, thisSales = data_mapped\n",
    "    \n",
    "    if oldStore == None:\n",
    "        salesMax = float(thissales)\n",
    "        \n",
    "    if oldStore and oldStore == thisStore:\n",
    "        if float(thisSales) > salesMax:\n",
    "            salesMax = float(thissales)\n",
    "            \n",
    "    if oldStore and oldStore != thisStore:\n",
    "        print oldStore, \"\\t\", salesMax\n",
    "        salesMax = float(thissales)\n",
    "        \n",
    "    oldStore = thisStore\n",
    "    \n",
    "if oldStore != None:\n",
    "    print oldStore, \"\\t\", salesMax"
   ]
  },
  {
   "cell_type": "markdown",
   "id": "unusual-mustang",
   "metadata": {
    "heading_collapsed": true,
    "hidden": true
   },
   "source": [
    "#### Answer"
   ]
  },
  {
   "cell_type": "markdown",
   "id": "extraordinary-toilet",
   "metadata": {
    "hidden": true
   },
   "source": [
    "a) 499.99 <br>\n",
    "b) 499.98 <br>\n",
    "c) 499.98"
   ]
  },
  {
   "cell_type": "markdown",
   "id": "confidential-olive",
   "metadata": {
    "ExecuteTime": {
     "end_time": "2021-03-01T13:11:08.271486Z",
     "start_time": "2021-03-01T13:11:08.269151Z"
    },
    "heading_collapsed": true
   },
   "source": [
    "### Question 3. What is the total number of sales and the total sales value from all the stores? Assume there is only one reducer."
   ]
  },
  {
   "cell_type": "markdown",
   "id": "ranging-negative",
   "metadata": {
    "heading_collapsed": true,
    "hidden": true
   },
   "source": [
    "#### mapper"
   ]
  },
  {
   "cell_type": "code",
   "execution_count": null,
   "id": "judicial-anniversary",
   "metadata": {
    "hidden": true
   },
   "outputs": [],
   "source": [
    "#!/usr/bin/python\n",
    "\n",
    "import sys\n",
    "\n",
    "for line in sys.stdin:\n",
    "    data = line.strip().split(\"\\t\")\n",
    "    \n",
    "    if len(data) == 6:\n",
    "        date, time, store, item, cost, payment = data\n",
    "        \n",
    "    print \"{0}\\t{1}\". format (store, cost)"
   ]
  },
  {
   "cell_type": "markdown",
   "id": "fundamental-button",
   "metadata": {
    "heading_collapsed": true,
    "hidden": true
   },
   "source": [
    "#### reducer"
   ]
  },
  {
   "cell_type": "code",
   "execution_count": null,
   "id": "conceptual-wrong",
   "metadata": {
    "hidden": true
   },
   "outputs": [],
   "source": [
    "#!/usr/bin/python\n",
    "\n",
    "import sys\n",
    "\n",
    "salesTotal = 0\n",
    "countTotal = 0\n",
    "\n",
    "for line in sys.stdin:\n",
    "    data_mapped = line.strip().split(\"\\t\")\n",
    "    \n",
    "    if len(data_mapped) != 2:\n",
    "        # Something has gone wrong. Skip this line.\n",
    "        continue\n",
    "        \n",
    "    thiskey, thissale = data_mapped\n",
    "    \n",
    "    salesTotal += float(thissale)\n",
    "    countTotal += 1\n",
    "    \n",
    "print salesTotal, \"\\t\", countTotal"
   ]
  },
  {
   "cell_type": "markdown",
   "id": "musical-difference",
   "metadata": {
    "heading_collapsed": true,
    "hidden": true
   },
   "source": [
    "#### Answer"
   ]
  },
  {
   "cell_type": "markdown",
   "id": "another-speaking",
   "metadata": {
    "hidden": true
   },
   "source": [
    "Total number of sales: 4,138,476 <br>\n",
    "Total value of sales: 1,034,457,953.26"
   ]
  }
 ],
 "metadata": {
  "kernelspec": {
   "display_name": "Python 3",
   "language": "python",
   "name": "python3"
  },
  "language_info": {
   "codemirror_mode": {
    "name": "ipython",
    "version": 3
   },
   "file_extension": ".py",
   "mimetype": "text/x-python",
   "name": "python",
   "nbconvert_exporter": "python",
   "pygments_lexer": "ipython3",
   "version": "3.8.0"
  }
 },
 "nbformat": 4,
 "nbformat_minor": 5
}
