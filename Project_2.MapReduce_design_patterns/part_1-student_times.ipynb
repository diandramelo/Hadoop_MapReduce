{
 "cells": [
  {
   "cell_type": "markdown",
   "id": "saving-bolivia",
   "metadata": {},
   "source": [
    "# Class 8 - Project\n",
    "## Part I - Student Times exercise"
   ]
  },
  {
   "cell_type": "markdown",
   "id": "worst-wisdom",
   "metadata": {},
   "source": [
    "In this exercise your task is to find for each student what is the hour during which the student has posted the most posts. Output from reducers should be:\n",
    "\n",
    "author_id    hour\n",
    "\n",
    "If there is a tie: there are multiple hours during which a student has posted a maximum number of posts, please print the student-hour pairs on separate lines. The order in which these lines appear in your output does not matter.\n",
    "\n",
    "You can ignore the time-zone offset for all times - for example in the following line: \"2012-02-25 08:11:01.623548+00\" - you can ignore the +00 offset."
   ]
  },
  {
   "cell_type": "markdown",
   "id": "heard-husband",
   "metadata": {
    "ExecuteTime": {
     "end_time": "2021-03-01T13:47:18.423577Z",
     "start_time": "2021-03-01T13:47:18.420407Z"
    },
    "heading_collapsed": true
   },
   "source": [
    "### mapper"
   ]
  },
  {
   "cell_type": "code",
   "execution_count": null,
   "id": "structural-bookmark",
   "metadata": {
    "hidden": true
   },
   "outputs": [],
   "source": [
    "#!/usr/bin/env python\n",
    "\n",
    "# First day: 2012-01-01 (Sunday)\n",
    "\n",
    "import sys, csv\n",
    "from datetime import datetime\n",
    "\n",
    "reader = csv.reader(sys.stdin, delimiter = \"\\t\")\n",
    "reader.next() # skips heading\n",
    "writer = csv.writer(sys.stdout, delimiter \"\\t\", quotechar = \"\", quoting = csv. QUOTE_ALL)\n",
    "\n",
    "for line in reader:\n",
    "    if len(line) != 19:\n",
    "        continue\n",
    "    \n",
    "    id, title, tagnames, author_id, body, node_type, parent_id,\n",
    "    abs_parent_id, added_at, score, state_string, last edited_id,\n",
    "    last_activity_by_id, last_activity at, active_revision_id, extra,\n",
    "    extra_ref_id, extra_count, marked = line\n",
    "    \n",
    "    added_at_date = datetime.strptime(added_at[:-3], \"%Y-%m-%d %H:%M:%5.%f\")\n",
    "    \n",
    "    writer.writerow( [int(author_id), int(added_at_date.hour)])"
   ]
  },
  {
   "cell_type": "markdown",
   "id": "animated-coaching",
   "metadata": {
    "ExecuteTime": {
     "end_time": "2021-03-01T13:47:25.768686Z",
     "start_time": "2021-03-01T13:47:25.765500Z"
    },
    "heading_collapsed": true
   },
   "source": [
    "### reducer"
   ]
  },
  {
   "cell_type": "code",
   "execution_count": null,
   "id": "detailed-amber",
   "metadata": {
    "hidden": true
   },
   "outputs": [],
   "source": [
    "#!/usr/bin/env python\n",
    "\n",
    "import sys, csv\n",
    "\n",
    "reader = csv.reader(sys.stdin, delimiter = \"\\t\")\n",
    "writer = csv.writer(sys.stdout, delimiter = \"\\t\", quotechar = \"\", quoting = csv.QUOTE_ALL)\n",
    "\n",
    "oldAuthor = mostPostedHour = None\n",
    "authorPostedHours = [0]*24\n",
    "\n",
    "for line in reader:\n",
    "    thisAuthor, thisHour = line\n",
    "    \n",
    "    if oldAuthor and oldAuthor != thisAuthor:\n",
    "        for hour, count in enumerate(authorPostedHours):\n",
    "            if count == max(authorPostedHours):\n",
    "                writer.writerow([oldAuthor, hour])\n",
    "            authorPostedHours = [0]*24\n",
    "            \n",
    "    authorPostedHours[int(thisHour)] += 1\n",
    "    oldAuthor = thisAuthor\n",
    "    \n",
    "if oldAuthor != None:\n",
    "    for hour, count in enumerate(authorPostedHours):\n",
    "        if count == max(authorPostedHours) :\n",
    "            writer.writerow([oldAuthor, hour])\n",
    "\n",
    "print authorPostedHours"
   ]
  }
 ],
 "metadata": {
  "kernelspec": {
   "display_name": "Python 3",
   "language": "python",
   "name": "python3"
  },
  "language_info": {
   "codemirror_mode": {
    "name": "ipython",
    "version": 3
   },
   "file_extension": ".py",
   "mimetype": "text/x-python",
   "name": "python",
   "nbconvert_exporter": "python",
   "pygments_lexer": "ipython3",
   "version": "3.8.0"
  }
 },
 "nbformat": 4,
 "nbformat_minor": 5
}
