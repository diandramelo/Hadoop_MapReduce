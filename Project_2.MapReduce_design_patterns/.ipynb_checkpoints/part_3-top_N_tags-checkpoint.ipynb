{
 "cells": [
  {
   "cell_type": "markdown",
   "id": "saving-bolivia",
   "metadata": {},
   "source": [
    "# Class 8 - Project\n",
    "## Part III - Top Tags exercise"
   ]
  },
  {
   "cell_type": "markdown",
   "id": "worst-wisdom",
   "metadata": {},
   "source": [
    "Write a mapreduce program that would output Top 10 tags, ordered by the number of questions they appear in."
   ]
  },
  {
   "cell_type": "markdown",
   "id": "heard-husband",
   "metadata": {
    "ExecuteTime": {
     "end_time": "2021-03-01T13:47:18.423577Z",
     "start_time": "2021-03-01T13:47:18.420407Z"
    },
    "heading_collapsed": true
   },
   "source": [
    "### mapper"
   ]
  },
  {
   "cell_type": "code",
   "execution_count": null,
   "id": "structural-bookmark",
   "metadata": {
    "hidden": true
   },
   "outputs": [],
   "source": [
    "#!/usr/bin/env python\n",
    "\n",
    "import sys, csv\n",
    "\n",
    "reader = csv.reader(sys.stdin, delimiter = \"\\t\")\n",
    "reader.next()\n",
    "writer = csv.writer(sys.stdout, delimiter = \"\\t\", quotechar = '\"', quoting = csv.QUOTE_ALL)\n",
    "\n",
    "for line in reader:\n",
    "    if len(line) != 19:\n",
    "        continue\n",
    "    \n",
    "    id, title, tagnames, author_id, body, node_type, parent_id,\n",
    "    abs_parent_id, added_at, score, state_string, last edited_id,\n",
    "    last_activity_by_id, last_activity_at, active_revision_id, extra,\n",
    "    extra_ref_id, extra_count, marked = line\n",
    "    \n",
    "    tagnamesSplit = tagnames.strip().split(\"\")\n",
    "    \n",
    "    for i in range(len(tagnamesSplit)):\n",
    "        writer.writerow([tagnamesSplit[i], node_type])"
   ]
  },
  {
   "cell_type": "markdown",
   "id": "animated-coaching",
   "metadata": {
    "ExecuteTime": {
     "end_time": "2021-03-01T13:47:25.768686Z",
     "start_time": "2021-03-01T13:47:25.765500Z"
    },
    "heading_collapsed": true
   },
   "source": [
    "### reducer"
   ]
  },
  {
   "cell_type": "code",
   "execution_count": null,
   "id": "detailed-amber",
   "metadata": {
    "hidden": true
   },
   "outputs": [],
   "source": [
    "#!/usr/bin/env python\n",
    "\n",
    "import sys, csv\n",
    "\n",
    "def take_second(elem):\n",
    "    return elem[1]\n",
    "\n",
    "reader = csv.reader(sys.stdin, delimiter = \"\\t\")\n",
    "writer = csv.writer(sys.stdout, delimiter \"\\t\", quotechar = '\"', quoting = csv.QUOTE_ALL)\n",
    "\n",
    "oldTag = None\n",
    "countTag = i = 0\n",
    "allTags = []\n",
    "\n",
    "for line in reader:\n",
    "    thisTag, node_type = line\n",
    "    \n",
    "    if node_type != \"question\":\n",
    "        continue\n",
    "    if oldTag and oldTag != thisTag:\n",
    "        alltags.append([oldTag, countTag])\n",
    "        countTag = 0\n",
    "        \n",
    "    oldTag = thisTag\n",
    "    countTag += 1\n",
    "    \n",
    "if oldTag != None:\n",
    "    alltags.append([oldTag, countTag])\n",
    "    \n",
    "top_N = sorted(alltags, reverse = True, key = take_second)[:10]\n",
    "for record in top_N:\n",
    "    writer.writerow(record)"
   ]
  }
 ],
 "metadata": {
  "kernelspec": {
   "display_name": "Python 3",
   "language": "python",
   "name": "python3"
  },
  "language_info": {
   "codemirror_mode": {
    "name": "ipython",
    "version": 3
   },
   "file_extension": ".py",
   "mimetype": "text/x-python",
   "name": "python",
   "nbconvert_exporter": "python",
   "pygments_lexer": "ipython3",
   "version": "3.8.0"
  }
 },
 "nbformat": 4,
 "nbformat_minor": 5
}
