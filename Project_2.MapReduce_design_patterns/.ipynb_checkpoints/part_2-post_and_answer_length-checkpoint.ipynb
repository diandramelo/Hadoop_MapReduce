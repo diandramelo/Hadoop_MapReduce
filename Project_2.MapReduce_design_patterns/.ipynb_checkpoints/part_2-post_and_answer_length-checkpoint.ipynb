{
 "cells": [
  {
   "cell_type": "markdown",
   "id": "saving-bolivia",
   "metadata": {},
   "source": [
    "# Class 8 - Project\n",
    "## Part II - Post and Answer Length exercise"
   ]
  },
  {
   "cell_type": "markdown",
   "id": "worst-wisdom",
   "metadata": {},
   "source": [
    "Write a mapreduce program that would process the forum_node data and output the length of the post and the average answer (just answer, not comment) length for each post. You will have to decide how to write both the mapper and the reducer to get the required result."
   ]
  },
  {
   "cell_type": "markdown",
   "id": "heard-husband",
   "metadata": {
    "ExecuteTime": {
     "end_time": "2021-03-01T13:47:18.423577Z",
     "start_time": "2021-03-01T13:47:18.420407Z"
    }
   },
   "source": [
    "### mapper"
   ]
  },
  {
   "cell_type": "code",
   "execution_count": null,
   "id": "structural-bookmark",
   "metadata": {},
   "outputs": [],
   "source": [
    "#!/usr/bin/env python\n",
    "\n",
    "import sys, csv\n",
    "from datetime import datetime\n",
    "\n",
    "reader = csv.reader(sys.stdin, delimiter = \"\\t\")\n",
    "reader.next()\n",
    "writer = csv.writer(sys.stdout, delimiter = \"\\t\", quotechar = \"\", quoting = csv. QUOTE_ALL)\n",
    "\n",
    "for line in reader:\n",
    "    if len(line) != 19:\n",
    "        continue\n",
    "\n",
    "    id, title, tagnames, author_id, body, node_type, parent_id,\n",
    "    abs_parent_id, added_at, score, state_string, last edited_id,\n",
    "    last_activity_by_id, last_activity_at, active_revision_id, extra,\n",
    "    extra_ref_id, extra_count, marked = line\n",
    "    \n",
    "    writer.writerow([int(id), node_type, len(body)])"
   ]
  },
  {
   "cell_type": "markdown",
   "id": "animated-coaching",
   "metadata": {
    "ExecuteTime": {
     "end_time": "2021-03-01T13:47:25.768686Z",
     "start_time": "2021-03-01T13:47:25.765500Z"
    },
    "heading_collapsed": true
   },
   "source": [
    "### reducer"
   ]
  },
  {
   "cell_type": "code",
   "execution_count": null,
   "id": "detailed-amber",
   "metadata": {
    "hidden": true
   },
   "outputs": [],
   "source": [
    "#!/usr/bin/env python\n",
    "\n",
    "import sys, csv\n",
    "\n",
    "def avgLengthAnswer(sum, n):\n",
    "    if n != 0 :\n",
    "        avg = sum/n\n",
    "    else:\n",
    "        avg = 0\n",
    "    return avg\n",
    "\n",
    "reader = csv.reader(sys.stdin, delimiter = \"\\t\")\n",
    "writer = csv.writer(sys.stdout, delimiter = \"\\t\", quotechar = \", quoting = csv.QUOTE_ALL)\n",
    "                    \n",
    "oldNodeType = oldID = None\n",
    "lengthQuestion = sumLengthAnswer = countAnswer = 0\n",
    "                    \n",
    "for line in reader:\n",
    "    thisID, thisNodeType, countBody = line\n",
    "    \n",
    "    if oldid and thisNodeType == \"question\" and oldID != thisID:\n",
    "        writer.writerow([oldID, lengthQuestion, avgLengthAnswer(sumLengthAnswer, countAnswer)])\n",
    "        sumLengthAnswer = countAnswer = 0\n",
    "    \n",
    "    if thisNodeType == \"question\":\n",
    "        lengthQuestion = float(countBody)\n",
    "    else:\n",
    "        sumLengthAnswer += float(countBody)\n",
    "                    \n",
    "    countAnswer += 1\n",
    "    oldNodeType = thisNode Type\n",
    "    oldID = thisID\n",
    "                    \n",
    "if oldID != None:\n",
    "    writer.writerow([oldID, lengthQuestion, avgLengthAnswer(sumLengthAnswer, countAnswer)])"
   ]
  }
 ],
 "metadata": {
  "kernelspec": {
   "display_name": "Python 3",
   "language": "python",
   "name": "python3"
  },
  "language_info": {
   "codemirror_mode": {
    "name": "ipython",
    "version": 3
   },
   "file_extension": ".py",
   "mimetype": "text/x-python",
   "name": "python",
   "nbconvert_exporter": "python",
   "pygments_lexer": "ipython3",
   "version": "3.8.0"
  }
 },
 "nbformat": 4,
 "nbformat_minor": 5
}
