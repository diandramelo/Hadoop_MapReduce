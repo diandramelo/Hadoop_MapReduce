{
 "cells": [
  {
   "cell_type": "markdown",
   "id": "saving-bolivia",
   "metadata": {},
   "source": [
    "# Class 8 - Project\n",
    "## Part IV - Study Groups exercise"
   ]
  },
  {
   "cell_type": "markdown",
   "id": "worst-wisdom",
   "metadata": {},
   "source": [
    "Write a mapreduce program that for each forum thread (that is a question node with all it's answers and comments) would give us a list of students that have posted there - either asked the question, answered a question or added a comment. If a student posted to that thread several times, they should be added to that list several times as well, to indicate intensity of communication."
   ]
  },
  {
   "cell_type": "markdown",
   "id": "heard-husband",
   "metadata": {
    "ExecuteTime": {
     "end_time": "2021-03-01T13:47:18.423577Z",
     "start_time": "2021-03-01T13:47:18.420407Z"
    },
    "heading_collapsed": true
   },
   "source": [
    "### mapper"
   ]
  },
  {
   "cell_type": "code",
   "execution_count": null,
   "id": "structural-bookmark",
   "metadata": {
    "hidden": true
   },
   "outputs": [],
   "source": [
    "#!/usr/bin/env python\n",
    "\n",
    "import sys, CSV\n",
    "\n",
    "reader = csv. reader(sys.stdin, delimiter = \"\\t\")\n",
    "reader.next()\n",
    "writer = csv.writer(sys.stdout, delimiter = \"\\t\", quotechar = '\"', quoting = csv.QUOTE_ALL)\n",
    "\n",
    "for line in reader:\n",
    "    if len(line) != 19:\n",
    "        continue\n",
    "\n",
    "    id, title, tagnames, author_id, body, node_type, parent_id,\n",
    "    abs_parent_id, added_at, score, state_string, last edited_id,\n",
    "    last_activity_by_id, last_activity_at, active_revision_id, extra,\n",
    "    extra_ref_id, extra_count, marked = line\n",
    "    \n",
    "    writer.writerow([int(id), node_type, author_id])"
   ]
  },
  {
   "cell_type": "markdown",
   "id": "animated-coaching",
   "metadata": {
    "ExecuteTime": {
     "end_time": "2021-03-01T13:47:25.768686Z",
     "start_time": "2021-03-01T13:47:25.765500Z"
    },
    "heading_collapsed": true
   },
   "source": [
    "### reducer"
   ]
  },
  {
   "cell_type": "code",
   "execution_count": null,
   "id": "detailed-amber",
   "metadata": {
    "hidden": true
   },
   "outputs": [],
   "source": [
    "#!/usr/bin/env python\n",
    "\n",
    "import sys, CSV\n",
    "\n",
    "reader = csv.reader(sys.stdin, delimiter = \"\\t\")\n",
    "writer = csv.writer(sys.stdout, delimiter = \"\\t\", quotechar = '\"', quoting = csv.QUOTE_ALL)\n",
    "\n",
    "oldQuestionID = None\n",
    "listUsers = []\n",
    "\n",
    "for line in reader:\n",
    "    thisID, node_type, author_id = line\n",
    "    \n",
    "    if oldQuestionID and node_type == \"question\":\n",
    "        writer.writerow( [oldQuestionID, listUsers])\n",
    "        listUsers = []\n",
    "    \n",
    "    if node_type == \"question\":\n",
    "        oldQuestionID = thisID\n",
    "        \n",
    "    listUsers.append(author_id)\n",
    "        \n",
    "if oldQuestionID != None:\n",
    "    writer.writerow( [oldQuestionID, listUsers])"
   ]
  }
 ],
 "metadata": {
  "kernelspec": {
   "display_name": "Python 3",
   "language": "python",
   "name": "python3"
  },
  "language_info": {
   "codemirror_mode": {
    "name": "ipython",
    "version": 3
   },
   "file_extension": ".py",
   "mimetype": "text/x-python",
   "name": "python",
   "nbconvert_exporter": "python",
   "pygments_lexer": "ipython3",
   "version": "3.8.0"
  }
 },
 "nbformat": 4,
 "nbformat_minor": 5
}
